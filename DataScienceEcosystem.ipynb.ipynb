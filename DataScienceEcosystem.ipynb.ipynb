{
  "metadata": {
    "kernelspec": {
      "name": "python",
      "display_name": "Python (Pyodide)",
      "language": "python"
    },
    "language_info": {
      "codemirror_mode": {
        "name": "python",
        "version": 3
      },
      "file_extension": ".py",
      "mimetype": "text/x-python",
      "name": "python",
      "nbconvert_exporter": "python",
      "pygments_lexer": "ipython3",
      "version": "3.8"
    }
  },
  "nbformat_minor": 4,
  "nbformat": 4,
  "cells": [
    {
      "cell_type": "markdown",
      "source": "<!-- Exercise 2: Create markdown cell with title of the notebook -->\n# Data Science Tools and Ecosystem\n<!-- Exercise 3: Create a markdown cell for an introduction -->\nIn this notebook, Data Science Tools and Ecosystem are summarized.",
      "metadata": {}
    },
    {
      "cell_type": "markdown",
      "source": "<!-- Exercise 11 - Create a markdown cell to indicate the Author's name -->\n## Author\nMickey Arnold",
      "metadata": {}
    },
    {
      "cell_type": "markdown",
      "source": "<!-- Exercise 10 - Insert a markdown cell to list Objectives -->\n**Objectives:**\n- List popular languages for Data Science\n- Commonly used libraries used by Data Scientist\n- List of Data Science Tools\n- Examples of evaluating arithetic expressions in Python",
      "metadata": {}
    },
    {
      "cell_type": "markdown",
      "source": "<!-- Exercise 4 - Create a markdown cell to list data science languages -->\nSome of the popular languages that Data Scientist use are:\n\n1. SQL\n2. Python\n3. Julia\n4. R\n",
      "metadata": {}
    },
    {
      "cell_type": "markdown",
      "source": "<!-- Exercise 5 - Create a markdown cell to list data science libraries -->\nSome of the commonly used libraries used by Data Scientist include:\n1. Matplotlib\n2. NumPy\n3. Panda\n4. TensorFlow",
      "metadata": {}
    },
    {
      "cell_type": "markdown",
      "source": "<!-- Exercise 6 - Create a markdown cell with a table of Data Science tools -->\n| Data Science Tools |\n|--------------------|\n| Hadopp |\n| ggplot2 |\n| R Studio's |",
      "metadata": {}
    },
    {
      "cell_type": "markdown",
      "source": "<!-- Exercise 7 - Create a markdown cell introducing arithmetic expression examples -->\n### Below are a few examples of evaluating arithetic expressions in Python",
      "metadata": {}
    },
    {
      "cell_type": "code",
      "source": "# Exercise 8 - Create a code cell to multiply and add numbers\n# This is a simple arithetic expression to mutiply then add integer.\n(3*4)+5",
      "metadata": {
        "trusted": true
      },
      "outputs": [
        {
          "execution_count": 14,
          "output_type": "execute_result",
          "data": {
            "text/plain": "17"
          },
          "metadata": {}
        }
      ],
      "execution_count": 14
    },
    {
      "cell_type": "code",
      "source": "# Exercise 9 - Create a code cell to convert minutes to hours\n# This will convert 200 minutes to hours by dividing by 60.\n200/60\n",
      "metadata": {
        "trusted": true
      },
      "outputs": [
        {
          "execution_count": 17,
          "output_type": "execute_result",
          "data": {
            "text/plain": "3.3333333333333335"
          },
          "metadata": {}
        }
      ],
      "execution_count": 17
    }
  ]
}